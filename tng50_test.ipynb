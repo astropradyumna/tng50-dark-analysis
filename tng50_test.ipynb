{
 "cells": [
  {
   "cell_type": "code",
   "execution_count": 1,
   "metadata": {},
   "outputs": [],
   "source": [
    "import numpy as np\n",
    "import matplotlib.pyplot as plt\n",
    "import illustris_python as il\n",
    "from tqdm import tqdm\n",
    "import os\n",
    "import pandas as pd\n",
    "from joblib import Parallel, delayed #This is to parallelize the code\n",
    "import sys\n",
    "sys.path.append(os.path.abspath('/bigdata/saleslab/psadh003/tng50-dark-analysis'))\n",
    "sys.path.append(os.path.abspath('/bigdata/saleslab/psadh003/tng50/dwarf_formation'))\n",
    "from tng_subhalo_and_halo import TNG_Subhalo\n",
    "from hydro_path_for_files import * #This is to get the paths for the files\n",
    "import logging\n",
    "\n",
    "h = 0.6774\n",
    "mdm = 4.5e5"
   ]
  },
  {
   "cell_type": "code",
   "execution_count": 2,
   "metadata": {},
   "outputs": [],
   "source": [
    "ages_df = pd.read_csv('/bigdata/saleslab/psadh003/tng50-dark-analysis/ages_tng.csv', comment = '#') # This is a file that contains redhsifts and ages of universe at different snapshots\n",
    "\n",
    "all_snaps = np.array(ages_df['snapshot'])\n",
    "all_redshifts = np.array(ages_df['redshift'])\n",
    "all_ages = np.array(ages_df['age(Gyr)'])\n"
   ]
  },
  {
   "cell_type": "code",
   "execution_count": 3,
   "metadata": {},
   "outputs": [],
   "source": [
    "fofno = 0\n",
    "this_fof = il.groupcat.loadSingle(basePath, 99, haloID = fofno)\n",
    "central_id_at99 = this_fof['GroupFirstSub']\n",
    "this_fof_nsubs = this_fof['GroupNsubs']\n"
   ]
  },
  {
   "cell_type": "code",
   "execution_count": 4,
   "metadata": {},
   "outputs": [],
   "source": [
    "central_fields = ['GroupFirstSub', 'SubhaloGrNr', 'SnapNum', 'GroupNsubs', 'SubhaloPos', 'Group_R_Crit200', 'SubhaloVel', 'SubhaloCM', 'Group_M_Crit200'] \n",
    "central_tree = il.sublink.loadTree(basePath, 99, central_id_at99, fields = central_fields, onlyMPB = True)\n",
    "central_snaps = central_tree['SnapNum']\n",
    "central_redshift = all_redshifts[central_snaps]\n",
    "central_x =  central_tree['SubhaloPos'][:, 0]/(1 + central_redshift)/h\n",
    "central_y =  central_tree['SubhaloPos'][:, 1]/(1 + central_redshift)/h\n",
    "central_z =  central_tree['SubhaloPos'][:, 2]/(1 + central_redshift)/h\n",
    "central_vx = central_tree['SubhaloVel'][:, 0]\n",
    "central_vy = central_tree['SubhaloVel'][:, 1]\n",
    "central_vz = central_tree['SubhaloVel'][:, 2]\n",
    "Rvir = central_tree['Group_R_Crit200']/(1 + central_redshift)/h #This is the virial radius of the group\n",
    "ages_rvir = all_ages[central_snaps] #Ages corresponding to the virial radii\n"
   ]
  },
  {
   "cell_type": "code",
   "execution_count": 5,
   "metadata": {},
   "outputs": [],
   "source": [
    "def get_grnr(snap):\n",
    "    '''\n",
    "    This function returns the group number at a given snapshot \n",
    "    snap: input snapshot\n",
    "    '''\n",
    "    grnr_arr = central_tree['SubhaloGrNr']\n",
    "    grnr = grnr_arr[np.where(central_snaps == snap)]\n",
    "    return grnr\n",
    "\n",
    "\n",
    "central_grnr = np.zeros(0)\n",
    "\n",
    "for csnap in central_snaps:\n",
    "    central_grnr = np.append(central_grnr, get_grnr(csnap))\n"
   ]
  },
  {
   "cell_type": "code",
   "execution_count": 7,
   "metadata": {},
   "outputs": [],
   "source": [
    "def get_t1subhalo_data(sfid):  \n",
    "    '''\n",
    "    This is for Type-1 in the simulation\n",
    "    '''\n",
    "    this_subh = il.groupcat.loadSingle(basePath, 99, subhaloID = sfid)\n",
    "\n",
    "    if this_subh['SubhaloFlag'] == 0:\n",
    "        return None\n",
    "\n",
    "    if_tree = il.sublink.loadTree(basePath, int(99), int(sfid),\n",
    "            fields = ['SubfindID', 'SnapNum', 'SubhaloMass', 'SubhaloGrNr', 'GroupFirstSub', 'SubhaloVmax', 'SubhaloPos'], \n",
    "            onlyMPB = True) #Progenitor tree\n",
    "    \n",
    "    if if_tree is None:\n",
    "        return None # This is to check if the subhalo is not in any tree\n",
    "    \n",
    "    cm = np.array(this_subh['SubhaloCM'])/h - (central_x[0], central_y[0], central_z[0])\n",
    "\n",
    "    subh = TNG_Subhalo(sfid, 99, last_snap = 99)\n",
    "    pos = subh.get_position_wrt_center(where = 99)\n",
    "\n",
    "    vel = np.array(this_subh['SubhaloVel'] - (central_vx[0], central_vy[0], central_vz[0]))\n",
    "    \n",
    "    pos_ar = pos.reshape(1, -1)\n",
    "    cm_ar = cm.reshape(1, -1)\n",
    "    vel_ar = vel.reshape(1, -1)\n",
    "\n",
    "    # Let us now get the vmax_if by looking at the merger tree\n",
    "    if_snap = if_tree['SnapNum']\n",
    "    snap_len = len(if_snap)\n",
    "    if_grnr = if_tree['SubhaloGrNr']\n",
    "    # ixs_for_central = np.where(np.isin(central_snaps, if_snap))[0]\n",
    "    # central_pos = np.column_stack((central_x[ixs_for_central],\n",
    "    #                                 central_y[ixs_for_central],\n",
    "    #                                 central_z[ixs_for_central]))\n",
    "    \n",
    "    # subh_x = if_tree['SubhaloPos'][:, 0]/h/(1 + all_redshifts[if_snap]) - central_x[ixs_for_central]\n",
    "    # subh_y = if_tree['SubhaloPos'][:, 1]/h/(1 + all_redshifts[if_snap]) - central_y[ixs_for_central]\n",
    "    # subh_z = if_tree['SubhaloPos'][:, 2]/h/(1 + all_redshifts[if_snap]) - central_z[ixs_for_central]\n",
    "\n",
    "    # if_dist = np.sqrt(subh_x**2 + subh_y**2 + subh_z**2)\n",
    "\n",
    "\n",
    "\n",
    "    i1 = 0\n",
    "    i2 = 0\n",
    "    inf1_snap = -1\n",
    "    inf1_sfid = -1\n",
    "    matching_snap = -1\n",
    "\n",
    "    i3 = 0\n",
    "    crossing_snap = -1\n",
    "    crossing_sfid = -1\n",
    "\n",
    "\n",
    "    for ix in range(len(if_snap)):\n",
    "        '''\n",
    "        This loop is to go through all the snaps in order to obtain the snap where infall happened\n",
    "        '''\n",
    "        snap_ix = if_snap[snap_len - ix - 1] #Go in an ascending order of snapshots for this variable\n",
    "        \n",
    "        # print(if_snap, if_grnr, central_grnr)\n",
    "        \n",
    "        if (i1 == 0) and (if_tree['SubfindID'][ix] == if_tree['GroupFirstSub'][ix]):\n",
    "            inf1_snap = if_snap[ix] #This would be the last time when it made transition from central to a satellite\n",
    "            i1 = 1\n",
    "            # print(snap, subid, inf1_snap)\n",
    "        # if (i2 == 0) and (if_grnr[snap_len - ix - 1] == central_grnr[central_snaps == snap_ix]):\n",
    "        if if_grnr[snap_len - ix - 1].size * central_grnr[central_snaps == snap_ix].size > 0: #What is this for? Assuming this is a check if subhalo existed at this snapshot\n",
    "            if (i2 == 0) and (if_grnr[snap_len - ix - 1] == central_grnr[central_snaps == snap_ix]):\n",
    "                matching_snap = snap_ix #This would be the first time when this entered FoF halo 0\n",
    "                i2 = 1\n",
    "        # if (i3 == 0) and (if_dist[snap_len - ix - 1] < Rvir[central_snaps == snap_ix]):\n",
    "        #     crossing_snap = snap_ix\n",
    "        #     crossing_sfid = if_tree['SubfindID'][snap_len - ix - 1]\n",
    "        #     i3 = 1\n",
    "        \n",
    "    \n",
    "        if i1*i2 == 1:\n",
    "            # print(pos_ar[:, 0][0]) \n",
    "            # column_names = ['posx_ar', 'posy_ar', 'posz_ar', 'cmx_ar', 'cmy_ar', 'cmz_ar', 'vmax_ar', 'mass_ar', 'len_ar', 'sfid_ar', \n",
    "                # 'snap_if_ar', 'sfid_if_ar', 'vmax_if_ar', 'mdm_if_ar', 'inf1_snap_ar', 'inf1_sfid_ar', 'vpeak']\n",
    "            # In this case matching_snap is the snap where it entered the FoF halo 0\n",
    "            # Let us calculate the stellar mass at this snapshot\n",
    "            mstar_infall = subh.get_mstar(where = int(matching_snap), how = 'total')\n",
    "\n",
    "\n",
    "\n",
    "            # This is to calculate the Vmax at infall with different cases\n",
    "            if subh.get_mdm(where = int(matching_snap), how = 'total') == 0:\n",
    "                vmax_at_inf = 0\n",
    "            else:\n",
    "                fstar_at_infall = subh.get_mstar(where = int(matching_snap), how = 'vmax')[0]/subh.get_mdm(where = int(matching_snap), how = 'vmax')[0]\n",
    "                if fstar_at_infall < 0.05:\n",
    "                    vmax_at_inf = subh.get_vmax(where = int(matching_snap))\n",
    "                elif fstar_at_infall < 0.1:\n",
    "                    vmax_at_inf = subh.get_mx_values(where = int(matching_snap), typ = 'dm_dominated')[0]\n",
    "                elif fstar_at_infall > 0.1:\n",
    "                    vmax_at_inf = subh.get_mx_values(where = int(matching_snap), typ = 'star_dominated')[0]\n",
    "\n",
    "            if subh.get_mdm(where = int(99), how = 'total') == 0:\n",
    "                vmax_at_99 = 0\n",
    "            else:\n",
    "                fstar_at_99 = subh.get_mstar(where = int(99), how = 'vmax')[0]/subh.get_mdm(where = int(99), how = 'vmax')[0]\n",
    "                if fstar_at_99 < 0.05:\n",
    "                    vmax_at_99 = subh.get_vmax(where = int(99))\n",
    "                elif fstar_at_99 < 0.1:\n",
    "                    vmax_at_99 = subh.get_mx_values(where = int(99), typ = 'dm_dominated')[0]\n",
    "                elif fstar_at_99 > 0.1:\n",
    "                    vmax_at_99 = subh.get_mx_values(where = int(99), typ = 'star_dominated')[0]\n",
    "               \n",
    "\n",
    "\n",
    "\n",
    "            return pos_ar[:, 0][0], pos_ar[:, 1][0], pos_ar[:, 2][0],  vel_ar[:, 0][0], vel_ar[:, 1][0], vel_ar[:, 2][0], sfid, vmax_at_99, matching_snap, if_tree['SubfindID'][if_snap == matching_snap][0], vmax_at_inf\n",
    "            \n",
    "\n",
    "            \n",
    "        \n",
    "    if i2 ==1 and i1 == 0: # This would be the case wherewe have shifting to the FoF, but it was never a central. It has to be in one of the two cases.\n",
    "        if subh.get_mdm(where = int(matching_snap), how = 'total') == 0:\n",
    "                vmax_at_inf = 0\n",
    "        else:\n",
    "            fstar_at_infall = subh.get_mstar(where = int(matching_snap), how = 'vmax')[0]/subh.get_mdm(where = int(matching_snap), how = 'vmax')[0]\n",
    "            if fstar_at_infall < 0.05:\n",
    "                vmax_at_inf = subh.get_vmax(where = int(matching_snap))\n",
    "            elif fstar_at_infall < 0.1:\n",
    "                vmax_at_inf = subh.get_mx_values(where = int(matching_snap), typ = 'dm_dominated')[0]\n",
    "            elif fstar_at_infall > 0.1:\n",
    "                vmax_at_inf = subh.get_mx_values(where = int(matching_snap), typ = 'star_dominated')[0]\n",
    "\n",
    "        if subh.get_mdm(where = int(99), how = 'total') == 0:\n",
    "            vmax_at_99 = 0\n",
    "        else:\n",
    "            fstar_at_99 = subh.get_mstar(where = int(99), how = 'vmax')[0]/subh.get_mdm(where = int(99), how = 'vmax')[0]\n",
    "            if fstar_at_99 < 0.05:\n",
    "                vmax_at_99 = subh.get_vmax(where = int(99))\n",
    "            elif fstar_at_99 < 0.1:\n",
    "                vmax_at_99 = subh.get_mx_values(where = int(99), typ = 'dm_dominated')[0]\n",
    "            elif fstar_at_99 > 0.1:\n",
    "                vmax_at_99 = subh.get_mx_values(where = int(99), typ = 'star_dominated')[0]\n",
    "            \n",
    "\n",
    "\n",
    "\n",
    "        return pos_ar[:, 0][0], pos_ar[:, 1][0], pos_ar[:, 2][0],  vel_ar[:, 0][0], vel_ar[:, 1][0], vel_ar[:, 2][0], sfid, vmax_at_99, matching_snap, if_tree['SubfindID'][if_snap == matching_snap][0], vmax_at_inf"
   ]
  },
  {
   "cell_type": "code",
   "execution_count": 8,
   "metadata": {},
   "outputs": [
    {
     "name": "stderr",
     "output_type": "stream",
     "text": [
      "  0%|          | 227/63293 [01:22<6:18:41,  2.78it/s]/bigdata/saleslab/psadh003/tng50/dwarf_formation/tng_subhalo_and_halo.py:195: RuntimeWarning: divide by zero encountered in log10\n",
      "  result = np.array([np.log10(nfw_mass(r1, lrhos, lrs)) - np.log10(float(m1)), np.log10(nfw_mass(r2, lrhos, lrs)) - np.log10(float(m2))]).ravel()\n",
      "/bigdata/saleslab/psadh003/tng50/dwarf_formation/tng_subhalo_and_halo.py:202: RuntimeWarning: The iteration is not making good progress, as measured by the \n",
      "  improvement from the last ten iterations.\n",
      "  lrhos, lrs = fsolve(simul_func, input_values)\n",
      "  7%|▋         | 4481/63293 [27:15<4:46:08,  3.43it/s]"
     ]
    },
    {
     "name": "stdout",
     "output_type": "stream",
     "text": [
      "Warning, empty return. Subhalo [5051] at snapNum [99] not in tree.\n"
     ]
    },
    {
     "name": "stderr",
     "output_type": "stream",
     "text": [
      " 16%|█▌        | 10183/63293 [1:01:32<4:04:34,  3.62it/s] "
     ]
    },
    {
     "name": "stdout",
     "output_type": "stream",
     "text": [
      "Warning, empty return. Subhalo [10753] at snapNum [99] not in tree.\n"
     ]
    },
    {
     "name": "stderr",
     "output_type": "stream",
     "text": [
      " 22%|██▏       | 13788/63293 [1:23:19<4:59:08,  2.76it/s] \n"
     ]
    },
    {
     "ename": "KeyboardInterrupt",
     "evalue": "",
     "output_type": "error",
     "traceback": [
      "\u001b[0;31m---------------------------------------------------------------------------\u001b[0m",
      "\u001b[0;31mKeyboardInterrupt\u001b[0m                         Traceback (most recent call last)",
      "Cell \u001b[0;32mIn[8], line 2\u001b[0m\n\u001b[1;32m      1\u001b[0m \u001b[38;5;28;01mfor\u001b[39;00m sfid \u001b[38;5;129;01min\u001b[39;00m tqdm(\u001b[38;5;28mrange\u001b[39m(\u001b[38;5;241m571\u001b[39m, central_id_at99 \u001b[38;5;241m+\u001b[39m this_fof_nsubs)):\n\u001b[0;32m----> 2\u001b[0m     \u001b[43mget_t1subhalo_data\u001b[49m\u001b[43m(\u001b[49m\u001b[43msfid\u001b[49m\u001b[43m)\u001b[49m\n\u001b[1;32m      4\u001b[0m \u001b[38;5;66;03m# print(get_t1subhalo_data(central_id_at99+1))\u001b[39;00m\n",
      "Cell \u001b[0;32mIn[7], line 20\u001b[0m, in \u001b[0;36mget_t1subhalo_data\u001b[0;34m(sfid)\u001b[0m\n\u001b[1;32m     17\u001b[0m cm \u001b[38;5;241m=\u001b[39m np\u001b[38;5;241m.\u001b[39marray(this_subh[\u001b[38;5;124m'\u001b[39m\u001b[38;5;124mSubhaloCM\u001b[39m\u001b[38;5;124m'\u001b[39m])\u001b[38;5;241m/\u001b[39mh \u001b[38;5;241m-\u001b[39m (central_x[\u001b[38;5;241m0\u001b[39m], central_y[\u001b[38;5;241m0\u001b[39m], central_z[\u001b[38;5;241m0\u001b[39m])\n\u001b[1;32m     19\u001b[0m subh \u001b[38;5;241m=\u001b[39m TNG_Subhalo(sfid, \u001b[38;5;241m99\u001b[39m, last_snap \u001b[38;5;241m=\u001b[39m \u001b[38;5;241m99\u001b[39m)\n\u001b[0;32m---> 20\u001b[0m pos \u001b[38;5;241m=\u001b[39m \u001b[43msubh\u001b[49m\u001b[38;5;241;43m.\u001b[39;49m\u001b[43mget_position_wrt_center\u001b[49m\u001b[43m(\u001b[49m\u001b[43mwhere\u001b[49m\u001b[43m \u001b[49m\u001b[38;5;241;43m=\u001b[39;49m\u001b[43m \u001b[49m\u001b[38;5;241;43m99\u001b[39;49m\u001b[43m)\u001b[49m\n\u001b[1;32m     22\u001b[0m vel \u001b[38;5;241m=\u001b[39m np\u001b[38;5;241m.\u001b[39marray(this_subh[\u001b[38;5;124m'\u001b[39m\u001b[38;5;124mSubhaloVel\u001b[39m\u001b[38;5;124m'\u001b[39m] \u001b[38;5;241m-\u001b[39m (central_vx[\u001b[38;5;241m0\u001b[39m], central_vy[\u001b[38;5;241m0\u001b[39m], central_vz[\u001b[38;5;241m0\u001b[39m]))\n\u001b[1;32m     24\u001b[0m pos_ar \u001b[38;5;241m=\u001b[39m pos\u001b[38;5;241m.\u001b[39mreshape(\u001b[38;5;241m1\u001b[39m, \u001b[38;5;241m-\u001b[39m\u001b[38;5;241m1\u001b[39m)\n",
      "File \u001b[0;32m/bigdata/saleslab/psadh003/tng50/dwarf_formation/tng_subhalo_and_halo.py:298\u001b[0m, in \u001b[0;36mTNG_Subhalo.get_position_wrt_center\u001b[0;34m(self, where)\u001b[0m\n\u001b[1;32m    296\u001b[0m subh_x, subh_y, subh_z \u001b[38;5;241m=\u001b[39m \u001b[38;5;28mself\u001b[39m\u001b[38;5;241m.\u001b[39mtree[\u001b[38;5;124m'\u001b[39m\u001b[38;5;124mSubhaloPos\u001b[39m\u001b[38;5;124m'\u001b[39m][snap_wanted \u001b[38;5;241m==\u001b[39m \u001b[38;5;28mself\u001b[39m\u001b[38;5;241m.\u001b[39mtree[\u001b[38;5;124m'\u001b[39m\u001b[38;5;124mSnapNum\u001b[39m\u001b[38;5;124m'\u001b[39m]][\u001b[38;5;241m0\u001b[39m]\u001b[38;5;241m/\u001b[39mh\u001b[38;5;241m/\u001b[39m(\u001b[38;5;241m1\u001b[39m \u001b[38;5;241m+\u001b[39m all_redshifts[snap_wanted])\n\u001b[1;32m    297\u001b[0m cen_id \u001b[38;5;241m=\u001b[39m \u001b[38;5;28mself\u001b[39m\u001b[38;5;241m.\u001b[39mtree[\u001b[38;5;124m'\u001b[39m\u001b[38;5;124mGroupFirstSub\u001b[39m\u001b[38;5;124m'\u001b[39m][snap_wanted \u001b[38;5;241m==\u001b[39m \u001b[38;5;28mself\u001b[39m\u001b[38;5;241m.\u001b[39mtree[\u001b[38;5;124m'\u001b[39m\u001b[38;5;124mSnapNum\u001b[39m\u001b[38;5;124m'\u001b[39m]]\n\u001b[0;32m--> 298\u001b[0m cen_x, cen_y, cen_z \u001b[38;5;241m=\u001b[39m \u001b[43mil\u001b[49m\u001b[38;5;241;43m.\u001b[39;49m\u001b[43mgroupcat\u001b[49m\u001b[38;5;241;43m.\u001b[39;49m\u001b[43mloadSingle\u001b[49m\u001b[43m(\u001b[49m\u001b[43mbasePath\u001b[49m\u001b[43m,\u001b[49m\u001b[43m \u001b[49m\u001b[43msnap_wanted\u001b[49m\u001b[43m,\u001b[49m\u001b[43m \u001b[49m\u001b[43msubhaloID\u001b[49m\u001b[43m \u001b[49m\u001b[38;5;241;43m=\u001b[39;49m\u001b[43m \u001b[49m\u001b[43mcen_id\u001b[49m\u001b[43m)\u001b[49m[\u001b[38;5;124m'\u001b[39m\u001b[38;5;124mSubhaloPos\u001b[39m\u001b[38;5;124m'\u001b[39m]\u001b[38;5;241m/\u001b[39mh\u001b[38;5;241m/\u001b[39m(\u001b[38;5;241m1\u001b[39m \u001b[38;5;241m+\u001b[39m all_redshifts[snap_wanted])\n\u001b[1;32m    299\u001b[0m pos \u001b[38;5;241m=\u001b[39m np\u001b[38;5;241m.\u001b[39marray([(subh_x \u001b[38;5;241m-\u001b[39m cen_x), (subh_y \u001b[38;5;241m-\u001b[39m cen_y), (subh_z \u001b[38;5;241m-\u001b[39m cen_z)])\n\u001b[1;32m    300\u001b[0m \u001b[38;5;28;01mreturn\u001b[39;00m pos\n",
      "File \u001b[0;32m~/.local/lib/python3.9/site-packages/illustris_python/groupcat.py:158\u001b[0m, in \u001b[0;36mloadSingle\u001b[0;34m(basePath, snapNum, haloID, subhaloID)\u001b[0m\n\u001b[1;32m    156\u001b[0m \u001b[38;5;28;01mwith\u001b[39;00m h5py\u001b[38;5;241m.\u001b[39mFile(gcPath(basePath, snapNum, fileNum), \u001b[38;5;124m'\u001b[39m\u001b[38;5;124mr\u001b[39m\u001b[38;5;124m'\u001b[39m) \u001b[38;5;28;01mas\u001b[39;00m f:\n\u001b[1;32m    157\u001b[0m     \u001b[38;5;28;01mfor\u001b[39;00m haloProp \u001b[38;5;129;01min\u001b[39;00m f[gName]\u001b[38;5;241m.\u001b[39mkeys():\n\u001b[0;32m--> 158\u001b[0m         result[haloProp] \u001b[38;5;241m=\u001b[39m \u001b[43mf\u001b[49m\u001b[43m[\u001b[49m\u001b[43mgName\u001b[49m\u001b[43m]\u001b[49m[haloProp][groupOffset]\n\u001b[1;32m    160\u001b[0m \u001b[38;5;28;01mreturn\u001b[39;00m result\n",
      "File \u001b[0;32mh5py/_objects.pyx:54\u001b[0m, in \u001b[0;36mh5py._objects.with_phil.wrapper\u001b[0;34m()\u001b[0m\n",
      "File \u001b[0;32mh5py/_objects.pyx:55\u001b[0m, in \u001b[0;36mh5py._objects.with_phil.wrapper\u001b[0;34m()\u001b[0m\n",
      "File \u001b[0;32m~/.local/lib/python3.9/site-packages/h5py/_hl/group.py:312\u001b[0m, in \u001b[0;36mGroup.__getitem__\u001b[0;34m(self, name)\u001b[0m\n\u001b[1;32m    310\u001b[0m otype \u001b[38;5;241m=\u001b[39m h5i\u001b[38;5;241m.\u001b[39mget_type(oid)\n\u001b[1;32m    311\u001b[0m \u001b[38;5;28;01mif\u001b[39;00m otype \u001b[38;5;241m==\u001b[39m h5i\u001b[38;5;241m.\u001b[39mGROUP:\n\u001b[0;32m--> 312\u001b[0m     \u001b[38;5;28;01mreturn\u001b[39;00m \u001b[43mGroup\u001b[49m\u001b[43m(\u001b[49m\u001b[43moid\u001b[49m\u001b[43m)\u001b[49m\n\u001b[1;32m    313\u001b[0m \u001b[38;5;28;01melif\u001b[39;00m otype \u001b[38;5;241m==\u001b[39m h5i\u001b[38;5;241m.\u001b[39mDATASET:\n\u001b[1;32m    314\u001b[0m     \u001b[38;5;28;01mreturn\u001b[39;00m dataset\u001b[38;5;241m.\u001b[39mDataset(oid, readonly\u001b[38;5;241m=\u001b[39m(\u001b[38;5;28mself\u001b[39m\u001b[38;5;241m.\u001b[39mfile\u001b[38;5;241m.\u001b[39mmode \u001b[38;5;241m==\u001b[39m \u001b[38;5;124m'\u001b[39m\u001b[38;5;124mr\u001b[39m\u001b[38;5;124m'\u001b[39m))\n",
      "File \u001b[0;32m~/.local/lib/python3.9/site-packages/h5py/_hl/group.py:40\u001b[0m, in \u001b[0;36mGroup.__init__\u001b[0;34m(self, bind)\u001b[0m\n\u001b[1;32m     38\u001b[0m \u001b[38;5;28;01mif\u001b[39;00m \u001b[38;5;129;01mnot\u001b[39;00m \u001b[38;5;28misinstance\u001b[39m(bind, h5g\u001b[38;5;241m.\u001b[39mGroupID):\n\u001b[1;32m     39\u001b[0m     \u001b[38;5;28;01mraise\u001b[39;00m \u001b[38;5;167;01mValueError\u001b[39;00m(\u001b[38;5;124m\"\u001b[39m\u001b[38;5;132;01m%s\u001b[39;00m\u001b[38;5;124m is not a GroupID\u001b[39m\u001b[38;5;124m\"\u001b[39m \u001b[38;5;241m%\u001b[39m bind)\n\u001b[0;32m---> 40\u001b[0m \u001b[38;5;28msuper\u001b[39m(Group, \u001b[38;5;28mself\u001b[39m)\u001b[38;5;241m.\u001b[39m\u001b[38;5;21m__init__\u001b[39m(bind)\n",
      "\u001b[0;31mKeyboardInterrupt\u001b[0m: "
     ]
    }
   ],
   "source": [
    "for sfid in tqdm(range(571, central_id_at99 + this_fof_nsubs)):\n",
    "    get_t1subhalo_data(sfid)\n",
    "\n",
    "# print(get_t1subhalo_data(central_id_at99+1))"
   ]
  },
  {
   "cell_type": "code",
   "execution_count": null,
   "metadata": {},
   "outputs": [],
   "source": []
  }
 ],
 "metadata": {
  "kernelspec": {
   "display_name": "Python 3.9 (custom)",
   "language": "python",
   "name": "custom_python"
  },
  "language_info": {
   "codemirror_mode": {
    "name": "ipython",
    "version": 3
   },
   "file_extension": ".py",
   "mimetype": "text/x-python",
   "name": "python",
   "nbconvert_exporter": "python",
   "pygments_lexer": "ipython3",
   "version": "3.9.18"
  }
 },
 "nbformat": 4,
 "nbformat_minor": 2
}
